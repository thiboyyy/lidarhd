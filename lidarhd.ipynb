{
 "cells": [
  {
   "cell_type": "code",
   "execution_count": null,
   "metadata": {},
   "outputs": [],
   "source": [
    "%load_ext autoreload\n",
    "%autoreload 2"
   ]
  },
  {
   "cell_type": "code",
   "execution_count": null,
   "metadata": {},
   "outputs": [],
   "source": [
    "from lhd import LiDARHD\n",
    "from shapely.geometry import LineString\n",
    "import geopandas as gpd\n",
    "\n",
    "# Télécharger la base de données LiDARHD (couche WFS avec les liens de téléchargement et emprises des données)\n",
    "lidarhd = LiDARHD(folder_path='./lidarhd/', overwrite=False)\n",
    "\n",
    "# Créer un GeoDataFrame de polygones à rechercher\n",
    "linestring = LineString([(2.3522, 48.8566), (2.3639, 48.8667)])\n",
    "gdf = gpd.GeoDataFrame({\n",
    "    'name': ['Paris Hotel de Ville - Paris Place de la République'],\n",
    "    'geometry': [linestring]}, crs=4326).to_crs(2154)\n",
    "gdf['geometry'] = gdf.geometry.buffer(30)\n",
    "\n",
    "# Télécharger les données LiDAR intersectant les polygones du GeoDataFrame en LAZ\n",
    "lidarhd.download(gdf, \"./lidarhd/points.laz\")"
   ]
  }
 ],
 "metadata": {
  "kernelspec": {
   "display_name": "entwine",
   "language": "python",
   "name": "python3"
  },
  "language_info": {
   "codemirror_mode": {
    "name": "ipython",
    "version": 3
   },
   "file_extension": ".py",
   "mimetype": "text/x-python",
   "name": "python",
   "nbconvert_exporter": "python",
   "pygments_lexer": "ipython3",
   "version": "3.10.12"
  }
 },
 "nbformat": 4,
 "nbformat_minor": 2
}
